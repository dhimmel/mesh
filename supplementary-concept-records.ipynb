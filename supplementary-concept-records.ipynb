{
 "cells": [
  {
   "cell_type": "code",
   "execution_count": 1,
   "metadata": {
    "collapsed": true
   },
   "outputs": [],
   "source": [
    "import os\n",
    "import gzip\n",
    "import xml.etree\n",
    "\n",
    "import networkx\n",
    "import pandas"
   ]
  },
  {
   "cell_type": "markdown",
   "metadata": {},
   "source": [
    "## Information on MeSH xml Files\n",
    "\n",
    "+ http://www.nlm.nih.gov/mesh/xmlmesh.html\n",
    "+ http://www.nlm.nih.gov/mesh/xml_data_elements.html"
   ]
  },
  {
   "cell_type": "code",
   "execution_count": 2,
   "metadata": {
    "collapsed": false
   },
   "outputs": [],
   "source": [
    "# Download xml file\n",
    "capture = !wget --timestamping --directory-prefix download/ ftp://nlmpubs.nlm.nih.gov/online/mesh/.xmlmesh/supp2015.gz"
   ]
  },
  {
   "cell_type": "code",
   "execution_count": 3,
   "metadata": {
    "collapsed": true
   },
   "outputs": [],
   "source": [
    "# Parse xml file as an ElementTree\n",
    "xml_path = os.path.join('download', 'supp2015.gz')\n",
    "with gzip.open(xml_path) as xml_file:\n",
    "    tree = xml.etree.ElementTree.parse(xml_file)\n",
    "root = tree.getroot()"
   ]
  },
  {
   "cell_type": "code",
   "execution_count": null,
   "metadata": {
    "collapsed": false
   },
   "outputs": [],
   "source": []
  },
  {
   "cell_type": "code",
   "execution_count": 4,
   "metadata": {
    "collapsed": false
   },
   "outputs": [],
   "source": [
    "# Extract records and save as tsv\n",
    "record_dicts = list()\n",
    "\n",
    "for record in root:\n",
    "    record_dict = dict()\n",
    "    record_dict['SCRClass'] = record.get('SCRClass')\n",
    "    record_dict['SupplementalRecordUI'] = record.findtext('SupplementalRecordUI')\n",
    "    record_dict['SupplementalRecordName'] = record.findtext('SupplementalRecordName/String')\n",
    "    record_dicts.append(record_dict)\n",
    "\n",
    "columns = ['SupplementalRecordUI', 'SupplementalRecordName', 'SCRClass']\n",
    "record_df = pandas.DataFrame(record_dicts)[columns]\n",
    "record_df.to_csv('data/supplemental-records.tsv', index=False, sep='\\t')"
   ]
  },
  {
   "cell_type": "code",
   "execution_count": 5,
   "metadata": {
    "collapsed": false
   },
   "outputs": [],
   "source": [
    "# Extract terms and save as tsv\n",
    "term_dicts = list()\n",
    "for record in root.findall('SupplementalRecord'):\n",
    "    for concept in record.findall('ConceptList/Concept'):\n",
    "        for term in concept.findall('TermList/Term'):\n",
    "            term_dict = {\n",
    "                'SupplementalRecordUI': record.findtext('SupplementalRecordUI'),\n",
    "                'ConceptUI': concept.findtext('ConceptUI'),\n",
    "                'TermUI': term.findtext('TermUI'),\n",
    "                'TermName': term.findtext('String')\n",
    "            }\n",
    "            term_dict.update(concept.attrib)\n",
    "            term_dict.update(term.attrib)\n",
    "            term_dicts.append(term_dict)\n",
    "\n",
    "columns = ['SupplementalRecordUI', 'ConceptUI', 'PreferredConceptYN', 'TermUI', 'TermName',\n",
    "           'ConceptPreferredTermYN', 'IsPermutedTermYN', 'LexicalTag', 'PrintFlagYN', 'RecordPreferredTermYN']\n",
    "term_df = pandas.DataFrame(term_dicts)[columns]\n",
    "term_df.to_csv('data/supplemental-terms.tsv', index=False, sep='\\t')"
   ]
  },
  {
   "cell_type": "code",
   "execution_count": null,
   "metadata": {
    "collapsed": true
   },
   "outputs": [],
   "source": []
  }
 ],
 "metadata": {
  "kernelspec": {
   "display_name": "Python 3",
   "language": "python",
   "name": "python3"
  },
  "language_info": {
   "codemirror_mode": {
    "name": "ipython",
    "version": 3
   },
   "file_extension": ".py",
   "mimetype": "text/x-python",
   "name": "python",
   "nbconvert_exporter": "python",
   "pygments_lexer": "ipython3",
   "version": "3.4.0"
  }
 },
 "nbformat": 4,
 "nbformat_minor": 0
}
